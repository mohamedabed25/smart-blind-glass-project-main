{
 "cells": [
  {
   "cell_type": "code",
   "execution_count": 4,
   "id": "e0c306be-941e-449a-b37b-46cf34f15397",
   "metadata": {},
   "outputs": [
    {
     "ename": "AttributeError",
     "evalue": "module 'pyttsx3' has no attribute '__version__'",
     "output_type": "error",
     "traceback": [
      "\u001b[1;31m---------------------------------------------------------------------------\u001b[0m",
      "\u001b[1;31mAttributeError\u001b[0m                            Traceback (most recent call last)",
      "Cell \u001b[1;32mIn[4], line 4\u001b[0m\n\u001b[0;32m      2\u001b[0m \u001b[38;5;28;01mtry\u001b[39;00m:\n\u001b[0;32m      3\u001b[0m     \u001b[38;5;28;01mimport\u001b[39;00m \u001b[38;5;21;01mpyttsx3\u001b[39;00m\n\u001b[1;32m----> 4\u001b[0m     pyttsx3_version \u001b[38;5;241m=\u001b[39m pyttsx3\u001b[38;5;241m.\u001b[39m__version__\n\u001b[0;32m      5\u001b[0m \u001b[38;5;28;01mexcept\u001b[39;00m \u001b[38;5;167;01mImportError\u001b[39;00m:\n\u001b[0;32m      6\u001b[0m     pyttsx3_version \u001b[38;5;241m=\u001b[39m \u001b[38;5;124m\"\u001b[39m\u001b[38;5;124mNot installed\u001b[39m\u001b[38;5;124m\"\u001b[39m\n",
      "\u001b[1;31mAttributeError\u001b[0m: module 'pyttsx3' has no attribute '__version__'"
     ]
    }
   ],
   "source": [
    "# Checking the installed version of the pyttsx3 library, if it is installed\n",
    "try:\n",
    "    import pyttsx3\n",
    "    pyttsx3_version = pyttsx3.__version__\n",
    "except ImportError:\n",
    "    pyttsx3_version = \"Not installed\"\n",
    "\n",
    "pyttsx3_version\n"
   ]
  },
  {
   "cell_type": "code",
   "execution_count": null,
   "id": "03802304-04e0-4a71-b340-e82ef821b741",
   "metadata": {},
   "outputs": [],
   "source": []
  },
  {
   "cell_type": "code",
   "execution_count": null,
   "id": "adbc9c25-49f5-49ce-9791-b2b8a16967c3",
   "metadata": {},
   "outputs": [],
   "source": []
  }
 ],
 "metadata": {
  "kernelspec": {
   "display_name": "Python 3 (ipykernel)",
   "language": "python",
   "name": "python3"
  },
  "language_info": {
   "codemirror_mode": {
    "name": "ipython",
    "version": 3
   },
   "file_extension": ".py",
   "mimetype": "text/x-python",
   "name": "python",
   "nbconvert_exporter": "python",
   "pygments_lexer": "ipython3",
   "version": "3.12.7"
  }
 },
 "nbformat": 4,
 "nbformat_minor": 5
}
